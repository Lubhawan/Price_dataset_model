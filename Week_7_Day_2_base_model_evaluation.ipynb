{
  "cells": [
    {
      "cell_type": "markdown",
      "metadata": {
        "id": "GHsssBgWM_l0"
      },
      "source": [
        "## Predict Product Prices\n",
        "\n",
        "### Week 7 Day 2\n",
        "\n",
        "Selecting our model and evaluating the base model against the task.\n",
        "\n",
        "Keep in mind: our base model has 8 billion params, quantized down to 4 bits\n",
        "Compared with GPT-4o at TRILLIONS of params!\n",
        "\n",
        "# IMPORTANT please read me!!\n",
        "\n",
        "When you run the pip installs below, you may get an error from pip complaining about an incompatible version of fsspec.\n",
        "\n",
        "You should ignore that error! The version of fsspec is the right version, needed by HuggingFace.\n",
        "\n",
        "If you ask ChatGPT, it will encourage you to pip install a more recent version of fsspec. But that would be problematic; HuggingFace will fail to load the dataset later with an obscure error about file systems.\n",
        "\n",
        "So please run the pip installs as they appear below, and look the other way if you get an error!\n"
      ]
    },
    {
      "cell_type": "code",
      "execution_count": null,
      "metadata": {
        "id": "MDyR63OTNUJ6"
      },
      "outputs": [],
      "source": [
        "# pip installs - ignore the error message!\n",
        "\n",
        "# !pip install -q datasets requests torch peft bitsandbytes transformers trl accelerate sentencepiece tiktoken matplotlib"
      ]
    },
    {
      "cell_type": "code",
      "execution_count": 1,
      "metadata": {
        "id": "-yikV8pRBer9"
      },
      "outputs": [],
      "source": [
        "# imports\n",
        "\n",
        "import os\n",
        "import re\n",
        "import math\n",
        "from tqdm import tqdm\n",
        "# from google.colab import userdata\n",
        "from huggingface_hub import login\n",
        "import torch\n",
        "import transformers\n",
        "from transformers import AutoModelForCausalLM, AutoTokenizer, BitsAndBytesConfig, TrainingArguments, set_seed\n",
        "from peft import LoraConfig, PeftModel\n",
        "from datasets import load_dataset, Dataset, DatasetDict\n",
        "from datetime import datetime\n",
        "import matplotlib.pyplot as plt"
      ]
    },
    {
      "cell_type": "code",
      "execution_count": 2,
      "metadata": {
        "id": "uuTX-xonNeOK"
      },
      "outputs": [],
      "source": [
        "# Tokenizers\n",
        "\n",
        "LLAMA_3_1 = \"meta-llama/Meta-Llama-3.1-8B\"\n",
        "QWEN_2_5 = \"Qwen/Qwen2.5-7B\"\n",
        "GEMMA_2 = \"google/gemma-2-9b\"\n",
        "PHI_3 = \"microsoft/Phi-3-medium-4k-instruct\"\n",
        "\n",
        "# Constants\n",
        "\n",
        "BASE_MODEL = LLAMA_3_1\n",
        "HF_USER = \"lubhu\"\n",
        "DATASET_NAME = f\"{HF_USER}/pricer-data\"\n",
        "MAX_SEQUENCE_LENGTH = 182\n",
        "QUANT_4_BIT = True\n",
        "\n",
        "# Used for writing to output in color\n",
        "\n",
        "GREEN = \"\\033[92m\"\n",
        "YELLOW = \"\\033[93m\"\n",
        "RED = \"\\033[91m\"\n",
        "RESET = \"\\033[0m\"\n",
        "COLOR_MAP = {\"red\":RED, \"orange\": YELLOW, \"green\": GREEN}\n",
        "\n",
        "%matplotlib inline"
      ]
    },
    {
      "cell_type": "markdown",
      "metadata": {
        "id": "8JArT3QAQAjx"
      },
      "source": [
        "### Log in to HuggingFace\n",
        "\n",
        "If you don't already have a HuggingFace account, visit https://huggingface.co to sign up and create a token.\n",
        "\n",
        "Then select the Secrets for this Notebook by clicking on the key icon in the left, and add a new secret called `HF_TOKEN` with the value as your token."
      ]
    },
    {
      "cell_type": "code",
      "execution_count": 3,
      "metadata": {
        "id": "WyFPZeMcM88v"
      },
      "outputs": [
        {
          "name": "stderr",
          "output_type": "stream",
          "text": [
            "Note: Environment variable`HF_TOKEN` is set and is the current active token independently from the token you've just configured.\n"
          ]
        }
      ],
      "source": [
        "# Log in to HuggingFace\n",
        "from dotenv import load_dotenv\n",
        "\n",
        "load_dotenv(override=True)\n",
        "os.environ['OPENAI_API_KEY'] = os.getenv('OPENAI_API_KEY', 'your-key-if-not-using-env')\n",
        "os.environ['ANTHROPIC_API_KEY'] = os.getenv('ANTHROPIC_API_KEY', 'your-key-if-not-using-env')\n",
        "os.environ['HF_TOKEN'] = os.getenv('HF_TOKEN', 'your-key-if-not-using-env')\n",
        "\n",
        "hf_token = os.environ['HF_TOKEN']\n",
        "login(hf_token, add_to_git_credential=True)"
      ]
    },
    {
      "cell_type": "code",
      "execution_count": 4,
      "metadata": {
        "id": "3ttdsrJkMsTT"
      },
      "outputs": [],
      "source": [
        "def investigate_tokenizer(model_name):\n",
        "  print(\"Investigating tokenizer for\", model_name)\n",
        "  tokenizer = AutoTokenizer.from_pretrained(model_name, trust_remote_code=True)\n",
        "  for number in [0, 1, 10, 100, 999, 1000]:\n",
        "    tokens = tokenizer.encode(str(number), add_special_tokens=False)\n",
        "    print(f\"The tokens for {number}: {tokens}\")"
      ]
    },
    {
      "cell_type": "code",
      "execution_count": 5,
      "metadata": {
        "id": "CqwfO4zzNrLE"
      },
      "outputs": [
        {
          "name": "stdout",
          "output_type": "stream",
          "text": [
            "Investigating tokenizer for meta-llama/Meta-Llama-3.1-8B\n",
            "The tokens for 0: [15]\n",
            "The tokens for 1: [16]\n",
            "The tokens for 10: [605]\n",
            "The tokens for 100: [1041]\n",
            "The tokens for 999: [5500]\n",
            "The tokens for 1000: [1041, 15]\n"
          ]
        }
      ],
      "source": [
        "# Now we will try this with each model: LLAMA_3_1, QWEN_2_5, GEMMA_2, PHI_3\n",
        "\n",
        "investigate_tokenizer(LLAMA_3_1)"
      ]
    },
    {
      "cell_type": "markdown",
      "metadata": {
        "id": "DTMo_1msQb9X"
      },
      "source": [
        "# Load our data\n",
        "\n",
        "We uploaded it to Hugging Face, so it's easy to retrieve it now"
      ]
    },
    {
      "cell_type": "code",
      "execution_count": 6,
      "metadata": {
        "id": "5PVXACKHQhh4"
      },
      "outputs": [],
      "source": [
        "dataset = load_dataset(DATASET_NAME)\n",
        "train = dataset['train']\n",
        "test = dataset['test']"
      ]
    },
    {
      "cell_type": "code",
      "execution_count": 7,
      "metadata": {
        "id": "pGJR24lbQlRS"
      },
      "outputs": [
        {
          "name": "stdout",
          "output_type": "stream",
          "text": [
            "{'text': 'How much does this cost to the nearest dollar?\\n\\nDelphi FG0166 Fuel Pump Module\\nDelphi brings 80 years of OE Heritage into each Delphi pump, ensuring quality and fitment for each Delphi part. Part is validated, tested and matched to the right vehicle application Delphi brings 80 years of OE Heritage into each Delphi assembly, ensuring quality and fitment for each Delphi part Always be sure to check and clean fuel tank to avoid unnecessary returns Rigorous OE-testing ensures the pump can withstand extreme temperatures Brand Delphi, Fit Type Vehicle Specific Fit, Dimensions LxWxH 19.7 x 7.7 x 5.1 inches, Weight 2.2 Pounds, Auto Part Position Unknown, Operation Mode Mechanical, Manufacturer Delphi, Model FUEL PUMP, Dimensions 19.7\\n\\nPrice is $227.00', 'price': 226.95}\n"
          ]
        }
      ],
      "source": [
        "print(train[0])"
      ]
    },
    {
      "cell_type": "markdown",
      "metadata": {
        "id": "vrxH6h00P9qc"
      },
      "source": [
        "# Prepare our Base Llama Model for evaluation\n",
        "\n",
        "Load our base model with 4 bit quantization and try out 1 example"
      ]
    },
    {
      "cell_type": "code",
      "execution_count": 8,
      "metadata": {
        "id": "R_O04fKxMMT-"
      },
      "outputs": [],
      "source": [
        "## pick the right quantization\n",
        "\n",
        "if QUANT_4_BIT:\n",
        "  quant_config = BitsAndBytesConfig(\n",
        "    load_in_4bit=True,\n",
        "    bnb_4bit_use_double_quant=True,\n",
        "    bnb_4bit_compute_dtype=torch.bfloat16,\n",
        "    bnb_4bit_quant_type=\"nf4\"\n",
        "  )\n",
        "else:\n",
        "  quant_config = BitsAndBytesConfig(\n",
        "    load_in_8bit=True,\n",
        "    bnb_8bit_compute_dtype=torch.bfloat16\n",
        "  )"
      ]
    },
    {
      "cell_type": "code",
      "execution_count": 9,
      "metadata": {
        "id": "TAit9IzsQLcc"
      },
      "outputs": [
        {
          "data": {
            "application/vnd.jupyter.widget-view+json": {
              "model_id": "ab4c1e3850d448f7b5d5956ded1205f1",
              "version_major": 2,
              "version_minor": 0
            },
            "text/plain": [
              "Loading checkpoint shards:   0%|          | 0/4 [00:00<?, ?it/s]"
            ]
          },
          "metadata": {},
          "output_type": "display_data"
        },
        {
          "name": "stdout",
          "output_type": "stream",
          "text": [
            "Memory footprint: 5.6 GB\n"
          ]
        }
      ],
      "source": [
        "# Load the Tokenizer and the Model\n",
        "\n",
        "tokenizer = AutoTokenizer.from_pretrained(BASE_MODEL, trust_remote_code=True)\n",
        "tokenizer.pad_token = tokenizer.eos_token\n",
        "tokenizer.padding_side = \"right\"\n",
        "\n",
        "base_model = AutoModelForCausalLM.from_pretrained(\n",
        "    BASE_MODEL,\n",
        "    quantization_config=quant_config,\n",
        "    device_map=\"auto\",\n",
        ")\n",
        "base_model.generation_config.pad_token_id = tokenizer.pad_token_id\n",
        "\n",
        "print(f\"Memory footprint: {base_model.get_memory_footprint() / 1e9:.1f} GB\")"
      ]
    },
    {
      "cell_type": "code",
      "execution_count": 17,
      "metadata": {
        "id": "1FfMJ2JbzEr3"
      },
      "outputs": [],
      "source": [
        "def extract_price(s):\n",
        "    if \"Price is $\" in s:\n",
        "      contents = s.split(\"Price is $\")[1]\n",
        "      # print(f\"Contents: {contents}\")\n",
        "      contents = contents.replace(',','').replace('$','')\n",
        "      # print(f\"Contents after replace: {contents}\")\n",
        "      match = re.search(r\"[-+]?\\d*\\.\\d+|\\d+\", contents)\n",
        "      return float(match.group()) if match else 0\n",
        "    return 0"
      ]
    },
    {
      "cell_type": "code",
      "execution_count": 18,
      "metadata": {
        "id": "jRpAKygTgAoz"
      },
      "outputs": [
        {
          "data": {
            "text/plain": [
              "999999999.999999"
            ]
          },
          "execution_count": 18,
          "metadata": {},
          "output_type": "execute_result"
        }
      ],
      "source": [
        "extract_price(\"Price is $999999999.999999 blah blah, so cheap\")"
      ]
    },
    {
      "cell_type": "code",
      "execution_count": 20,
      "metadata": {
        "id": "CgN8eRttRAZx"
      },
      "outputs": [],
      "source": [
        "def model_predict(prompt):\n",
        "    set_seed(42)\n",
        "    inputs = tokenizer.encode(prompt, return_tensors=\"pt\").to(\"cuda\")\n",
        "    attention_mask = torch.ones(inputs.shape, device=\"cuda\")\n",
        "    outputs = base_model.generate(inputs, max_new_tokens=4, attention_mask=attention_mask, num_return_sequences=1)\n",
        "    response = tokenizer.decode(outputs[0])\n",
        "    return extract_price(response)"
      ]
    },
    {
      "cell_type": "code",
      "execution_count": 21,
      "metadata": {},
      "outputs": [
        {
          "name": "stdout",
          "output_type": "stream",
          "text": [
            "How much does this cost to the nearest dollar?\n",
            "\n",
            "OEM AC Compressor w/A/C Repair Kit For Ford F150 F-150 V8 & Lincoln Mark LT 2007 2008 - BuyAutoParts NEW\n",
            "As one of the world's largest automotive parts suppliers, our parts are trusted every day by mechanics and vehicle owners worldwide. This A/C Compressor and Components Kit is manufactured and tested to the strictest OE standards for unparalleled performance. Built for trouble-free ownership and 100% visually inspected and quality tested, this A/C Compressor and Components Kit is backed by our 100% satisfaction guarantee. Guaranteed Exact Fit for easy installation 100% BRAND NEW, premium ISO/TS 16949 quality - tested to meet or exceed OEM specifications Engineered for superior durability, backed by industry-leading unlimited-mileage warranty Included in this K\n",
            "\n",
            "Price is $\n"
          ]
        }
      ],
      "source": [
        "print(test[0]['text'])"
      ]
    },
    {
      "cell_type": "code",
      "execution_count": 22,
      "metadata": {
        "id": "hpdEk2-FW6aT"
      },
      "outputs": [
        {
          "data": {
            "text/plain": [
              "1800.0"
            ]
          },
          "execution_count": 22,
          "metadata": {},
          "output_type": "execute_result"
        }
      ],
      "source": [
        "model_predict(test[0]['text'])"
      ]
    },
    {
      "cell_type": "markdown",
      "metadata": {
        "id": "auFzPUJKTLln"
      },
      "source": [
        "# Evaluation!\n",
        "\n",
        "Trying out our base Llama 3.1 model against the Test dataset"
      ]
    },
    {
      "cell_type": "code",
      "execution_count": 23,
      "metadata": {
        "id": "jnoI1EWGTUau"
      },
      "outputs": [],
      "source": [
        "class Tester:\n",
        "\n",
        "    def __init__(self, predictor, data, title=None, size=250):\n",
        "        self.predictor = predictor\n",
        "        self.data = data\n",
        "        self.title = title or predictor.__name__.replace(\"_\", \" \").title()\n",
        "        self.size = size\n",
        "        self.guesses = []\n",
        "        self.truths = []\n",
        "        self.errors = []\n",
        "        self.sles = []\n",
        "        self.colors = []\n",
        "\n",
        "    def color_for(self, error, truth):\n",
        "        if error<40 or error/truth < 0.2:\n",
        "            return \"green\"\n",
        "        elif error<80 or error/truth < 0.4:\n",
        "            return \"orange\"\n",
        "        else:\n",
        "            return \"red\"\n",
        "\n",
        "    def run_datapoint(self, i):\n",
        "        datapoint = self.data[i]\n",
        "        guess = self.predictor(datapoint[\"text\"])\n",
        "        truth = datapoint[\"price\"]\n",
        "        error = abs(guess - truth)\n",
        "        log_error = math.log(truth+1) - math.log(guess+1)\n",
        "        sle = log_error ** 2\n",
        "        color = self.color_for(error, truth)\n",
        "        title = datapoint[\"text\"].split(\"\\n\\n\")[1][:20] + \"...\"\n",
        "        self.guesses.append(guess)\n",
        "        self.truths.append(truth)\n",
        "        self.errors.append(error)\n",
        "        self.sles.append(sle)\n",
        "        self.colors.append(color)\n",
        "        print(f\"{COLOR_MAP[color]}{i+1}: Guess: ${guess:,.2f} Truth: ${truth:,.2f} Error: ${error:,.2f} SLE: {sle:,.2f} Item: {title}{RESET}\")\n",
        "\n",
        "    def chart(self, title):\n",
        "        max_error = max(self.errors)\n",
        "        plt.figure(figsize=(12, 8))\n",
        "        max_val = max(max(self.truths), max(self.guesses))\n",
        "        plt.plot([0, max_val], [0, max_val], color='deepskyblue', lw=2, alpha=0.6)\n",
        "        plt.scatter(self.truths, self.guesses, s=3, c=self.colors)\n",
        "        plt.xlabel('Ground Truth')\n",
        "        plt.ylabel('Model Estimate')\n",
        "        plt.xlim(0, max_val)\n",
        "        plt.ylim(0, max_val)\n",
        "        plt.title(title)\n",
        "        plt.show()\n",
        "\n",
        "    def report(self):\n",
        "        average_error = sum(self.errors) / self.size\n",
        "        rmsle = math.sqrt(sum(self.sles) / self.size)\n",
        "        hits = sum(1 for color in self.colors if color==\"green\")\n",
        "        title = f\"{self.title} Error=${average_error:,.2f} RMSLE={rmsle:,.2f} Hits={hits/self.size*100:.1f}%\"\n",
        "        self.chart(title)\n",
        "\n",
        "    def run(self):\n",
        "        self.error = 0\n",
        "        for i in range(self.size):\n",
        "            self.run_datapoint(i)\n",
        "        self.report()\n",
        "\n",
        "    @classmethod\n",
        "    def test(cls, function, data):\n",
        "        cls(function, data).run()"
      ]
    },
    {
      "cell_type": "code",
      "execution_count": 24,
      "metadata": {
        "id": "1wA5uVgpTWLC"
      },
      "outputs": [
        {
          "name": "stdout",
          "output_type": "stream",
          "text": [
            "\u001b[91m1: Guess: $1,800.00 Truth: $374.41 Error: $1,425.59 SLE: 2.46 Item: OEM AC Compressor w/...\u001b[0m\n",
            "\u001b[91m2: Guess: $25.00 Truth: $225.11 Error: $200.11 SLE: 4.68 Item: Motorcraft YB3125 Fa...\u001b[0m\n",
            "\u001b[92m3: Guess: $25.00 Truth: $61.68 Error: $36.68 SLE: 0.77 Item: Dorman Front Washer ...\u001b[0m\n",
            "\u001b[91m4: Guess: $1,999.00 Truth: $599.99 Error: $1,399.01 SLE: 1.45 Item: HP Premium HD Plus T...\u001b[0m\n",
            "\u001b[92m5: Guess: $7.50 Truth: $16.99 Error: $9.49 SLE: 0.56 Item: Super Switch Pickup ...\u001b[0m\n",
            "\u001b[92m6: Guess: $1.00 Truth: $31.99 Error: $30.99 SLE: 7.86 Item: Horror Bookmarks, Re...\u001b[0m\n",
            "\u001b[92m7: Guess: $89.99 Truth: $101.79 Error: $11.80 SLE: 0.01 Item: SK6241 - Stinger 4 G...\u001b[0m\n",
            "\u001b[92m8: Guess: $299.00 Truth: $289.00 Error: $10.00 SLE: 0.00 Item: Godox ML60Bi LED Lig...\u001b[0m\n",
            "\u001b[91m9: Guess: $299.00 Truth: $635.86 Error: $336.86 SLE: 0.57 Item: Randall G3 Plus Comb...\u001b[0m\n",
            "\u001b[93m10: Guess: $25.99 Truth: $65.99 Error: $40.00 SLE: 0.83 Item: HOLDWILL 6 Pack LED ...\u001b[0m\n",
            "\u001b[91m11: Guess: $110.00 Truth: $254.21 Error: $144.21 SLE: 0.69 Item: Viking Horns 3 Gallo...\u001b[0m\n",
            "\u001b[91m12: Guess: $1,800.00 Truth: $412.99 Error: $1,387.01 SLE: 2.16 Item: CURT 70110 Custom To...\u001b[0m\n",
            "\u001b[91m13: Guess: $25.00 Truth: $205.50 Error: $180.50 SLE: 4.29 Item: Solar HAMMERED BRONZ...\u001b[0m\n",
            "\u001b[93m14: Guess: $299.99 Truth: $248.23 Error: $51.76 SLE: 0.04 Item: COSTWAY Electric Tum...\u001b[0m\n",
            "\u001b[93m15: Guess: $299.99 Truth: $399.00 Error: $99.01 SLE: 0.08 Item: FREE SIGNAL TV Trans...\u001b[0m\n",
            "\u001b[91m16: Guess: $1,800.00 Truth: $373.94 Error: $1,426.06 SLE: 2.46 Item: Bilstein 5100 Monotu...\u001b[0m\n",
            "\u001b[93m17: Guess: $25.00 Truth: $92.89 Error: $67.89 SLE: 1.65 Item: Sangean K-200 Multi-...\u001b[0m\n",
            "\u001b[92m18: Guess: $25.00 Truth: $51.99 Error: $26.99 SLE: 0.51 Item: Charles Leonard Magn...\u001b[0m\n",
            "\u001b[91m19: Guess: $299.00 Truth: $179.00 Error: $120.00 SLE: 0.26 Item: Gigabyte AMD Radeon ...\u001b[0m\n",
            "\u001b[92m20: Guess: $7.99 Truth: $19.42 Error: $11.43 SLE: 0.67 Item: 3dRose LLC 8 x 8 x 0...\u001b[0m\n",
            "\u001b[91m21: Guess: $299.00 Truth: $539.95 Error: $240.95 SLE: 0.35 Item: ROKINON 85mm F1.4 Au...\u001b[0m\n",
            "\u001b[91m22: Guess: $25.00 Truth: $147.67 Error: $122.67 SLE: 3.04 Item: Headlight Assembly C...\u001b[0m\n",
            "\u001b[92m23: Guess: $7.50 Truth: $24.99 Error: $17.49 SLE: 1.25 Item: ASI NAUTICAL 2.5 Inc...\u001b[0m\n",
            "\u001b[91m24: Guess: $19.99 Truth: $149.00 Error: $129.01 SLE: 3.87 Item: Behringer TUBE OVERD...\u001b[0m\n",
            "\u001b[92m25: Guess: $7.99 Truth: $16.99 Error: $9.00 SLE: 0.48 Item: Fun Express Insect F...\u001b[0m\n",
            "\u001b[92m26: Guess: $7.99 Truth: $7.99 Error: $0.00 SLE: 0.00 Item: WAFJAMF Roller Stamp...\u001b[0m\n",
            "\u001b[91m27: Guess: $25.00 Truth: $199.99 Error: $174.99 SLE: 4.18 Item: Capulina Tiffany Flo...\u001b[0m\n",
            "\u001b[92m28: Guess: $299.00 Truth: $251.45 Error: $47.55 SLE: 0.03 Item: Apple Watch Series 6...\u001b[0m\n",
            "\u001b[91m29: Guess: $25.00 Truth: $231.62 Error: $206.62 SLE: 4.80 Item: ICON 01725 Tandem Ax...\u001b[0m\n",
            "\u001b[91m30: Guess: $25.00 Truth: $135.00 Error: $110.00 SLE: 2.74 Item: SanDisk 128GB Ultra ...\u001b[0m\n",
            "\u001b[91m31: Guess: $1,800.00 Truth: $356.62 Error: $1,443.38 SLE: 2.61 Item: Velvac - 715427\n",
            "2020...\u001b[0m\n",
            "\u001b[92m32: Guess: $299.00 Truth: $257.99 Error: $41.01 SLE: 0.02 Item: TCMT Passenger Backr...\u001b[0m\n",
            "\u001b[92m33: Guess: $7.50 Truth: $27.99 Error: $20.49 SLE: 1.51 Item: Alnicov 63.5MM Brass...\u001b[0m\n",
            "\u001b[91m34: Guess: $25.00 Truth: $171.20 Error: $146.20 SLE: 3.57 Item: Subaru Forester Outb...\u001b[0m\n",
            "\u001b[91m35: Guess: $1,800.00 Truth: $225.00 Error: $1,575.00 SLE: 4.31 Item: Richmond Auto Uphols...\u001b[0m\n",
            "\u001b[91m36: Guess: $25.00 Truth: $105.00 Error: $80.00 SLE: 1.97 Item: AP-39 Automotive Pai...\u001b[0m\n",
            "\u001b[91m37: Guess: $1,999.00 Truth: $299.99 Error: $1,699.01 SLE: 3.59 Item: Road Top Wireless Ca...\u001b[0m\n",
            "\u001b[91m38: Guess: $1,800.00 Truth: $535.09 Error: $1,264.91 SLE: 1.47 Item: Gibson Performance E...\u001b[0m\n",
            "\u001b[92m39: Guess: $19.99 Truth: $12.33 Error: $7.66 SLE: 0.21 Item: Bella Tunno Happy Li...\u001b[0m\n",
            "\u001b[92m40: Guess: $59.99 Truth: $84.99 Error: $25.00 SLE: 0.12 Item: CANMORE H300 Handhel...\u001b[0m\n",
            "\u001b[92m41: Guess: $7.99 Truth: $15.99 Error: $8.00 SLE: 0.41 Item: DCPOWER AC Adapter C...\u001b[0m\n",
            "\u001b[93m42: Guess: $7.00 Truth: $62.44 Error: $55.44 SLE: 4.29 Item: Sharp, Commercial De...\u001b[0m\n",
            "\u001b[93m43: Guess: $25.00 Truth: $82.99 Error: $57.99 SLE: 1.37 Item: Melissa & Doug Lifel...\u001b[0m\n",
            "\u001b[91m44: Guess: $299.99 Truth: $599.95 Error: $299.96 SLE: 0.48 Item: Sony SSCS8 2-Way Cen...\u001b[0m\n",
            "\u001b[91m45: Guess: $299.00 Truth: $194.99 Error: $104.01 SLE: 0.18 Item: ASUS Chromebook CX1,...\u001b[0m\n",
            "\u001b[92m46: Guess: $299.00 Truth: $344.95 Error: $45.95 SLE: 0.02 Item: FiiO X7 32GB Hi-Res ...\u001b[0m\n",
            "\u001b[92m47: Guess: $19.99 Truth: $37.99 Error: $18.00 SLE: 0.38 Item: TORRO Leather Case C...\u001b[0m\n",
            "\u001b[91m48: Guess: $1,800.00 Truth: $224.35 Error: $1,575.65 SLE: 4.32 Item: Universal Air Condit...\u001b[0m\n",
            "\u001b[91m49: Guess: $1,800.00 Truth: $814.00 Error: $986.00 SLE: 0.63 Item: Street Series Stainl...\u001b[0m\n",
            "\u001b[93m50: Guess: $299.00 Truth: $439.88 Error: $140.88 SLE: 0.15 Item: Lenovo IdeaPad 3 Lap...\u001b[0m\n",
            "\u001b[92m51: Guess: $299.00 Truth: $341.43 Error: $42.43 SLE: 0.02 Item: Access Bed Covers To...\u001b[0m\n",
            "\u001b[92m52: Guess: $7.50 Truth: $46.78 Error: $39.28 SLE: 2.98 Item: G.I. JOE Hasbro 3 3/...\u001b[0m\n",
            "\u001b[91m53: Guess: $25.00 Truth: $171.44 Error: $146.44 SLE: 3.58 Item: T&S Brass Double Pan...\u001b[0m\n",
            "\u001b[91m54: Guess: $1,800.00 Truth: $458.00 Error: $1,342.00 SLE: 1.87 Item: ZTUOAUMA Fuel Inject...\u001b[0m\n",
            "\u001b[91m55: Guess: $25.00 Truth: $130.75 Error: $105.75 SLE: 2.63 Item: Hp Prime Graphing Ca...\u001b[0m\n",
            "\u001b[93m56: Guess: $25.00 Truth: $83.81 Error: $58.81 SLE: 1.40 Item: Lowrance Nmea 2000 2...\u001b[0m\n",
            "\u001b[91m57: Guess: $25.00 Truth: $386.39 Error: $361.39 SLE: 7.30 Item: Jeep Genuine Accesso...\u001b[0m\n",
            "\u001b[91m58: Guess: $25.00 Truth: $169.00 Error: $144.00 SLE: 3.53 Item: GODOX CB-06 Hard Car...\u001b[0m\n",
            "\u001b[92m59: Guess: $7.50 Truth: $17.95 Error: $10.45 SLE: 0.64 Item: Au-Tomotive Gold, IN...\u001b[0m\n",
            "\u001b[91m60: Guess: $1,999.00 Truth: $269.00 Error: $1,730.00 SLE: 4.01 Item: Snailfly Black Roof ...\u001b[0m\n",
            "\u001b[93m61: Guess: $25.99 Truth: $77.77 Error: $51.78 SLE: 1.15 Item: KING SHA Anti Glare ...\u001b[0m\n",
            "\u001b[93m62: Guess: $25.00 Truth: $88.99 Error: $63.99 SLE: 1.54 Item: APS Compatible with ...\u001b[0m\n",
            "\u001b[91m63: Guess: $1,800.00 Truth: $364.41 Error: $1,435.59 SLE: 2.54 Item: Wilwood Engineering ...\u001b[0m\n",
            "\u001b[93m64: Guess: $54.99 Truth: $127.03 Error: $72.04 SLE: 0.68 Item: ACDelco Gold Starter...\u001b[0m\n",
            "\u001b[91m65: Guess: $1,999.00 Truth: $778.95 Error: $1,220.05 SLE: 0.89 Item: UWS Matte Black Heav...\u001b[0m\n",
            "\u001b[91m66: Guess: $299.00 Truth: $206.66 Error: $92.34 SLE: 0.14 Item: Dell Latitude E5440 ...\u001b[0m\n",
            "\u001b[92m67: Guess: $25.00 Truth: $35.94 Error: $10.94 SLE: 0.12 Item: (Plug and Play) Spar...\u001b[0m\n",
            "\u001b[91m68: Guess: $299.99 Truth: $149.00 Error: $150.99 SLE: 0.49 Item: The Ultimate Roadsid...\u001b[0m\n",
            "\u001b[91m69: Guess: $1,800.00 Truth: $251.98 Error: $1,548.02 SLE: 3.85 Item: Brand New 18 x 8.5 R...\u001b[0m\n",
            "\u001b[91m70: Guess: $25.00 Truth: $160.00 Error: $135.00 SLE: 3.32 Item: Headlight Headlamp L...\u001b[0m\n",
            "\u001b[92m71: Guess: $25.00 Truth: $39.99 Error: $14.99 SLE: 0.21 Item: Lilo And Stitch Delu...\u001b[0m\n",
            "\u001b[91m72: Guess: $25.00 Truth: $362.41 Error: $337.41 SLE: 6.96 Item: AC Compressor & A/C ...\u001b[0m\n",
            "\u001b[91m73: Guess: $25.00 Truth: $344.00 Error: $319.00 SLE: 6.68 Item: House Of Troy Pinnac...\u001b[0m\n",
            "\u001b[92m74: Guess: $7.50 Truth: $25.09 Error: $17.59 SLE: 1.26 Item: Juno T29 WH Floating...\u001b[0m\n",
            "\u001b[91m75: Guess: $25.00 Truth: $175.95 Error: $150.95 SLE: 3.68 Item: Sherman GO-PARTS - f...\u001b[0m\n",
            "\u001b[91m76: Guess: $25.00 Truth: $132.64 Error: $107.64 SLE: 2.68 Item: Roland RPU-3 Electro...\u001b[0m\n",
            "\u001b[91m77: Guess: $1,999.00 Truth: $422.99 Error: $1,576.01 SLE: 2.41 Item: Rockland VMI14 12,00...\u001b[0m\n",
            "\u001b[93m78: Guess: $220.00 Truth: $146.48 Error: $73.52 SLE: 0.16 Item: Max Advanced Brakes ...\u001b[0m\n",
            "\u001b[91m79: Guess: $54.95 Truth: $156.83 Error: $101.88 SLE: 1.08 Item: Quality-Built 11030 ...\u001b[0m\n",
            "\u001b[91m80: Guess: $25.00 Truth: $251.99 Error: $226.99 SLE: 5.18 Item: Lucida LG-510 Studen...\u001b[0m\n",
            "\u001b[91m81: Guess: $25.00 Truth: $940.33 Error: $915.33 SLE: 12.88 Item: Longacre Aluminum Tu...\u001b[0m\n",
            "\u001b[93m82: Guess: $7.50 Truth: $52.99 Error: $45.49 SLE: 3.42 Item: Motion Pro Adjustabl...\u001b[0m\n",
            "\u001b[93m83: Guess: $299.00 Truth: $219.95 Error: $79.05 SLE: 0.09 Item: Glyph Thunderbolt 3 ...\u001b[0m\n",
            "\u001b[91m84: Guess: $1,800.00 Truth: $441.03 Error: $1,358.97 SLE: 1.97 Item: TOYO Open Country MT...\u001b[0m\n",
            "\u001b[91m85: Guess: $299.99 Truth: $168.98 Error: $131.01 SLE: 0.33 Item: Razer Seiren X USB S...\u001b[0m\n",
            "\u001b[92m86: Guess: $1.50 Truth: $2.49 Error: $0.99 SLE: 0.11 Item: Happy Birthday to Da...\u001b[0m\n",
            "\u001b[92m87: Guess: $59.99 Truth: $98.62 Error: $38.63 SLE: 0.24 Item: Little Tikes My Real...\u001b[0m\n",
            "\u001b[91m88: Guess: $1,800.00 Truth: $256.95 Error: $1,543.05 SLE: 3.78 Item: Studio M Peace and H...\u001b[0m\n",
            "\u001b[92m89: Guess: $7.99 Truth: $30.99 Error: $23.00 SLE: 1.61 Item: MyVolts 12V Power Su...\u001b[0m\n",
            "\u001b[91m90: Guess: $1,800.00 Truth: $569.84 Error: $1,230.16 SLE: 1.32 Item: Dell Latitude 7212 R...\u001b[0m\n",
            "\u001b[91m91: Guess: $25.99 Truth: $177.99 Error: $152.00 SLE: 3.58 Item: Covermates Contour F...\u001b[0m\n",
            "\u001b[91m92: Guess: $1,800.00 Truth: $997.99 Error: $802.01 SLE: 0.35 Item: Westin Black HDX Gri...\u001b[0m\n",
            "\u001b[93m93: Guess: $299.00 Truth: $219.00 Error: $80.00 SLE: 0.10 Item: Fieldpiece JL2 Job L...\u001b[0m\n",
            "\u001b[91m94: Guess: $1,800.00 Truth: $225.55 Error: $1,574.45 SLE: 4.30 Item: hansgrohe Talis S Mo...\u001b[0m\n",
            "\u001b[91m95: Guess: $1,999.00 Truth: $495.95 Error: $1,503.05 SLE: 1.94 Item: G-Technology G-SPEED...\u001b[0m\n",
            "\u001b[91m96: Guess: $1,800.00 Truth: $942.37 Error: $857.63 SLE: 0.42 Item: DreamLine Shower Doo...\u001b[0m\n",
            "\u001b[92m97: Guess: $1.25 Truth: $1.94 Error: $0.69 SLE: 0.07 Item: Sanctuary Square Bac...\u001b[0m\n",
            "\u001b[92m98: Guess: $299.00 Truth: $284.34 Error: $14.66 SLE: 0.00 Item: Pelican Protector 17...\u001b[0m\n",
            "\u001b[91m99: Guess: $25.00 Truth: $171.90 Error: $146.90 SLE: 3.59 Item: Brock Replacement Dr...\u001b[0m\n",
            "\u001b[91m100: Guess: $299.99 Truth: $144.99 Error: $155.00 SLE: 0.52 Item: Carlinkit Ai Box Min...\u001b[0m\n",
            "\u001b[93m101: Guess: $299.00 Truth: $470.47 Error: $171.47 SLE: 0.20 Item: StarDot YouTube Live...\u001b[0m\n",
            "\u001b[93m102: Guess: $19.99 Truth: $66.95 Error: $46.96 SLE: 1.38 Item: Atomic Compatible ME...\u001b[0m\n",
            "\u001b[91m103: Guess: $25.00 Truth: $117.00 Error: $92.00 SLE: 2.29 Item: Bandai Awakening of ...\u001b[0m\n",
            "\u001b[91m104: Guess: $1,800.00 Truth: $172.14 Error: $1,627.86 SLE: 5.48 Item: Fit System 62135G Pa...\u001b[0m\n",
            "\u001b[91m105: Guess: $1,999.00 Truth: $392.74 Error: $1,606.26 SLE: 2.64 Item: Black Horse Black Al...\u001b[0m\n",
            "\u001b[92m106: Guess: $7.99 Truth: $16.99 Error: $9.00 SLE: 0.48 Item: Dearsun Twinkle Star...\u001b[0m\n",
            "\u001b[92m107: Guess: $1.50 Truth: $1.34 Error: $0.16 SLE: 0.00 Item: Pokemon - Gallade Sp...\u001b[0m\n",
            "\u001b[92m108: Guess: $299.00 Truth: $349.98 Error: $50.98 SLE: 0.02 Item: Ibanez GIO Series Cl...\u001b[0m\n",
            "\u001b[91m109: Guess: $1,800.00 Truth: $370.71 Error: $1,429.29 SLE: 2.49 Item: Set 2 Heavy Duty 12 ...\u001b[0m\n",
            "\u001b[92m110: Guess: $25.99 Truth: $65.88 Error: $39.89 SLE: 0.82 Item: Hairpin Table Legs 2...\u001b[0m\n",
            "\u001b[91m111: Guess: $59.99 Truth: $229.99 Error: $170.00 SLE: 1.77 Item: Marada Racing Seat w...\u001b[0m\n",
            "\u001b[92m112: Guess: $7.50 Truth: $9.14 Error: $1.64 SLE: 0.03 Item: Remington Industries...\u001b[0m\n",
            "\u001b[91m113: Guess: $1,999.00 Truth: $199.00 Error: $1,800.00 SLE: 5.30 Item: Acer Ultrabook, Inte...\u001b[0m\n",
            "\u001b[91m114: Guess: $25.00 Truth: $109.99 Error: $84.99 SLE: 2.11 Item: ICBEAMER 7 RGB LED H...\u001b[0m\n",
            "\u001b[91m115: Guess: $89.99 Truth: $570.42 Error: $480.43 SLE: 3.38 Item: R1 Concepts Front Re...\u001b[0m\n",
            "\u001b[91m116: Guess: $25.99 Truth: $279.99 Error: $254.00 SLE: 5.49 Item: Camplux 2.64 GPM Tan...\u001b[0m\n",
            "\u001b[92m117: Guess: $7.99 Truth: $30.99 Error: $23.00 SLE: 1.61 Item: KNOKLOCK 10 Pack 3.7...\u001b[0m\n",
            "\u001b[92m118: Guess: $25.00 Truth: $31.99 Error: $6.99 SLE: 0.06 Item: Valley Enterprises Y...\u001b[0m\n",
            "\u001b[92m119: Guess: $7.99 Truth: $15.90 Error: $7.91 SLE: 0.40 Item: G9 LED Light 100W re...\u001b[0m\n",
            "\u001b[92m120: Guess: $25.00 Truth: $45.99 Error: $20.99 SLE: 0.35 Item: ZCHAOZ 4 Lights Anti...\u001b[0m\n",
            "\u001b[91m121: Guess: $25.00 Truth: $113.52 Error: $88.52 SLE: 2.20 Item: Honeywell Honeywell ...\u001b[0m\n",
            "\u001b[91m122: Guess: $1,800.00 Truth: $516.99 Error: $1,283.01 SLE: 1.55 Item: Patriot Exhaust 1-7/...\u001b[0m\n",
            "\u001b[91m123: Guess: $25.00 Truth: $196.99 Error: $171.99 SLE: 4.12 Item: Fitrite Autopart New...\u001b[0m\n",
            "\u001b[93m124: Guess: $1.00 Truth: $46.55 Error: $45.55 SLE: 10.04 Item: Technical Precision ...\u001b[0m\n",
            "\u001b[91m125: Guess: $25.00 Truth: $356.99 Error: $331.99 SLE: 6.88 Item: Covercraft Carhartt ...\u001b[0m\n",
            "\u001b[92m126: Guess: $299.00 Truth: $319.95 Error: $20.95 SLE: 0.00 Item: Sennheiser SD Pro 2 ...\u001b[0m\n",
            "\u001b[93m127: Guess: $25.00 Truth: $96.06 Error: $71.06 SLE: 1.74 Item: Hitachi Mass Air Flo...\u001b[0m\n",
            "\u001b[91m128: Guess: $299.00 Truth: $190.99 Error: $108.01 SLE: 0.20 Item: AmScope LED Cordless...\u001b[0m\n",
            "\u001b[91m129: Guess: $25.00 Truth: $257.95 Error: $232.95 SLE: 5.28 Item: Front Left Driver Si...\u001b[0m\n",
            "\u001b[92m130: Guess: $25.00 Truth: $62.95 Error: $37.95 SLE: 0.81 Item: Premium Replica Hubc...\u001b[0m\n",
            "\u001b[92m131: Guess: $7.99 Truth: $47.66 Error: $39.67 SLE: 2.85 Item: Excellerations Phoni...\u001b[0m\n",
            "\u001b[91m132: Guess: $25.00 Truth: $226.99 Error: $201.99 SLE: 4.71 Item: RC4WD BigDog Dual Ax...\u001b[0m\n",
            "\u001b[91m133: Guess: $1,800.00 Truth: $359.95 Error: $1,440.05 SLE: 2.58 Item: Unknown Stage 2 Clut...\u001b[0m\n",
            "\u001b[93m134: Guess: $25.00 Truth: $78.40 Error: $53.40 SLE: 1.25 Item: Dodge Ram 1500 Mopar...\u001b[0m\n",
            "\u001b[91m135: Guess: $1,800.00 Truth: $172.77 Error: $1,627.23 SLE: 5.47 Item: Pro Comp Alloys Seri...\u001b[0m\n",
            "\u001b[91m136: Guess: $1,800.00 Truth: $316.45 Error: $1,483.55 SLE: 3.01 Item: Detroit Axle - Front...\u001b[0m\n",
            "\u001b[93m137: Guess: $25.00 Truth: $87.99 Error: $62.99 SLE: 1.51 Item: ECCPP Rear Wheel Axl...\u001b[0m\n",
            "\u001b[91m138: Guess: $1,800.00 Truth: $226.63 Error: $1,573.37 SLE: 4.28 Item: Dell Latitude E6520 ...\u001b[0m\n",
            "\u001b[92m139: Guess: $25.00 Truth: $31.49 Error: $6.49 SLE: 0.05 Item: F FIERCE CYCLE 251pc...\u001b[0m\n",
            "\u001b[91m140: Guess: $25.00 Truth: $196.00 Error: $171.00 SLE: 4.10 Item: Flash Furniture 4 Pk...\u001b[0m\n",
            "\u001b[93m141: Guess: $7.99 Truth: $78.40 Error: $70.41 SLE: 4.75 Item: B&M 30287 Throttle V...\u001b[0m\n",
            "\u001b[91m142: Guess: $25.00 Truth: $116.25 Error: $91.25 SLE: 2.27 Item: Gates TCK226 PowerGr...\u001b[0m\n",
            "\u001b[92m143: Guess: $110.00 Truth: $112.78 Error: $2.78 SLE: 0.00 Item: Monroe Shocks & Stru...\u001b[0m\n",
            "\u001b[92m144: Guess: $7.50 Truth: $27.32 Error: $19.82 SLE: 1.45 Item: Feit Electric 35W EQ...\u001b[0m\n",
            "\u001b[91m145: Guess: $19.99 Truth: $145.91 Error: $125.92 SLE: 3.79 Item: Yellow Jacket 2806 C...\u001b[0m\n",
            "\u001b[91m146: Guess: $25.00 Truth: $171.09 Error: $146.09 SLE: 3.57 Item: Garage-Pro Tailgate ...\u001b[0m\n",
            "\u001b[91m147: Guess: $25.99 Truth: $167.95 Error: $141.96 SLE: 3.36 Item: 3M Perfect It Buffin...\u001b[0m\n",
            "\u001b[92m148: Guess: $25.00 Truth: $28.49 Error: $3.49 SLE: 0.02 Item: Chinese Style Dollho...\u001b[0m\n",
            "\u001b[91m149: Guess: $25.00 Truth: $122.23 Error: $97.23 SLE: 2.42 Item: Generic NRG Innovati...\u001b[0m\n",
            "\u001b[92m150: Guess: $19.99 Truth: $32.99 Error: $13.00 SLE: 0.23 Item: Learning Resources C...\u001b[0m\n",
            "\u001b[93m151: Guess: $25.00 Truth: $71.20 Error: $46.20 SLE: 1.04 Item: Bosch Automotive 154...\u001b[0m\n",
            "\u001b[91m152: Guess: $7.50 Truth: $112.75 Error: $105.25 SLE: 6.73 Item: Case of 24-2 Inch Bl...\u001b[0m\n",
            "\u001b[91m153: Guess: $25.00 Truth: $142.43 Error: $117.43 SLE: 2.92 Item: MOCA Engine Water Pu...\u001b[0m\n",
            "\u001b[91m154: Guess: $1,999.00 Truth: $398.99 Error: $1,600.01 SLE: 2.59 Item: SAREMAS Foot Step Ba...\u001b[0m\n",
            "\u001b[93m155: Guess: $299.00 Truth: $449.00 Error: $150.00 SLE: 0.16 Item: Gretsch G9210 Square...\u001b[0m\n",
            "\u001b[91m156: Guess: $1,999.00 Truth: $189.00 Error: $1,810.00 SLE: 5.54 Item: NikoMaku Mirror Dash...\u001b[0m\n",
            "\u001b[93m157: Guess: $59.95 Truth: $120.91 Error: $60.96 SLE: 0.48 Item: Fenix HP25R v2.0 USB...\u001b[0m\n",
            "\u001b[91m158: Guess: $299.00 Truth: $203.53 Error: $95.47 SLE: 0.15 Item: R&L Racing Heavy Dut...\u001b[0m\n",
            "\u001b[92m159: Guess: $299.00 Truth: $349.99 Error: $50.99 SLE: 0.02 Item: Garmin GPSMAP 64sx, ...\u001b[0m\n",
            "\u001b[92m160: Guess: $7.99 Truth: $34.35 Error: $26.36 SLE: 1.87 Item: Brown 5-7/8 X 8-1/2 ...\u001b[0m\n",
            "\u001b[93m161: Guess: $299.99 Truth: $384.99 Error: $85.00 SLE: 0.06 Item: GAOMON PD2200 Pen Di...\u001b[0m\n",
            "\u001b[91m162: Guess: $1,800.00 Truth: $211.00 Error: $1,589.00 SLE: 4.58 Item: VXMOTOR for 97-03 Fo...\u001b[0m\n",
            "\u001b[91m163: Guess: $299.00 Truth: $129.00 Error: $170.00 SLE: 0.70 Item: HP EliteBook 2540p I...\u001b[0m\n",
            "\u001b[91m164: Guess: $7.50 Truth: $111.45 Error: $103.95 SLE: 6.67 Item: Green EPX Mixing Noz...\u001b[0m\n",
            "\u001b[91m165: Guess: $1.00 Truth: $81.12 Error: $80.12 SLE: 13.80 Item: Box Partners 6 1/4 x...\u001b[0m\n",
            "\u001b[91m166: Guess: $1,800.00 Truth: $457.08 Error: $1,342.92 SLE: 1.87 Item: Vixen Air 1/2 NPT Ai...\u001b[0m\n",
            "\u001b[92m167: Guess: $25.00 Truth: $49.49 Error: $24.49 SLE: 0.44 Item: Smart Floor Lamp, Mu...\u001b[0m\n",
            "\u001b[93m168: Guess: $25.00 Truth: $80.56 Error: $55.56 SLE: 1.31 Item: SOZG 324mm Wheelbase...\u001b[0m\n",
            "\u001b[91m169: Guess: $1,800.00 Truth: $278.39 Error: $1,521.61 SLE: 3.47 Item: Mickey Thompson ET S...\u001b[0m\n",
            "\u001b[91m170: Guess: $1,800.00 Truth: $364.50 Error: $1,435.50 SLE: 2.54 Item: Pirelli 106W XL RFT ...\u001b[0m\n",
            "\u001b[91m171: Guess: $25.00 Truth: $378.99 Error: $353.99 SLE: 7.19 Item: Torklift C3212 Rear ...\u001b[0m\n",
            "\u001b[91m172: Guess: $1,800.00 Truth: $165.28 Error: $1,634.72 SLE: 5.68 Item: Cardone Remanufactur...\u001b[0m\n",
            "\u001b[92m173: Guess: $25.00 Truth: $56.74 Error: $31.74 SLE: 0.64 Item: Kidde AccessPoint 00...\u001b[0m\n",
            "\u001b[91m174: Guess: $25.00 Truth: $307.95 Error: $282.95 SLE: 6.13 Item: 3M Protecta Self Ret...\u001b[0m\n",
            "\u001b[92m175: Guess: $25.00 Truth: $38.00 Error: $13.00 SLE: 0.16 Item: Plantronics Wired He...\u001b[0m\n",
            "\u001b[92m176: Guess: $59.99 Truth: $53.00 Error: $6.99 SLE: 0.01 Item: Logitech K750 Wirele...\u001b[0m\n",
            "\u001b[92m177: Guess: $500.00 Truth: $498.00 Error: $2.00 SLE: 0.00 Item: Olympus PEN E-PL9 Bo...\u001b[0m\n",
            "\u001b[92m178: Guess: $25.00 Truth: $53.99 Error: $28.99 SLE: 0.56 Item: Beck/Arnley Hub & Be...\u001b[0m\n",
            "\u001b[91m179: Guess: $1,800.00 Truth: $350.00 Error: $1,450.00 SLE: 2.67 Item: Eibach Pro-Kit Perfo...\u001b[0m\n",
            "\u001b[92m180: Guess: $299.99 Truth: $299.95 Error: $0.04 SLE: 0.00 Item: LEGO DC Batman 1989 ...\u001b[0m\n",
            "\u001b[93m181: Guess: $25.00 Truth: $94.93 Error: $69.93 SLE: 1.70 Item: Kingston Brass Resto...\u001b[0m\n",
            "\u001b[93m182: Guess: $299.00 Truth: $379.00 Error: $80.00 SLE: 0.06 Item: Polk Vanishing Serie...\u001b[0m\n",
            "\u001b[91m183: Guess: $1,999.00 Truth: $299.95 Error: $1,699.05 SLE: 3.59 Item: Spec-D Tuning LED Pr...\u001b[0m\n",
            "\u001b[92m184: Guess: $19.99 Truth: $24.99 Error: $5.00 SLE: 0.05 Item: RICHMOND & FINCH Air...\u001b[0m\n",
            "\u001b[92m185: Guess: $25.00 Truth: $41.04 Error: $16.04 SLE: 0.23 Item: LFA Industries - mm ...\u001b[0m\n",
            "\u001b[91m186: Guess: $89.99 Truth: $327.90 Error: $237.91 SLE: 1.65 Item: SAUTVS LED Headlight...\u001b[0m\n",
            "\u001b[92m187: Guess: $7.99 Truth: $10.99 Error: $3.00 SLE: 0.08 Item: 2 Pack Combo Womens ...\u001b[0m\n",
            "\u001b[92m188: Guess: $1.00 Truth: $14.99 Error: $13.99 SLE: 4.32 Item: Arepa - Venezuelan c...\u001b[0m\n",
            "\u001b[93m189: Guess: $7.50 Truth: $84.95 Error: $77.45 SLE: 5.35 Item: Schlage Lock Company...\u001b[0m\n",
            "\u001b[91m190: Guess: $25.00 Truth: $111.00 Error: $86.00 SLE: 2.13 Item: Techni Mobili White ...\u001b[0m\n",
            "\u001b[91m191: Guess: $25.00 Truth: $123.73 Error: $98.73 SLE: 2.46 Item: Special Lite Product...\u001b[0m\n",
            "\u001b[91m192: Guess: $299.00 Truth: $557.38 Error: $258.38 SLE: 0.39 Item: Tascam Digital Porta...\u001b[0m\n",
            "\u001b[93m193: Guess: $25.00 Truth: $95.55 Error: $70.55 SLE: 1.72 Item: Glow Lighting Vista ...\u001b[0m\n",
            "\u001b[91m194: Guess: $25.00 Truth: $154.00 Error: $129.00 SLE: 3.19 Item: Z3 Wind Deflector, S...\u001b[0m\n",
            "\u001b[91m195: Guess: $299.00 Truth: $198.99 Error: $100.01 SLE: 0.16 Item: Olympus E-20 5MP Dig...\u001b[0m\n",
            "\u001b[91m196: Guess: $1,000.00 Truth: $430.44 Error: $569.56 SLE: 0.71 Item: PHYNEDI 1 1000 World...\u001b[0m\n",
            "\u001b[93m197: Guess: $1.00 Truth: $45.67 Error: $44.67 SLE: 9.92 Item: YANGHUAN Unstable Un...\u001b[0m\n",
            "\u001b[93m198: Guess: $299.00 Truth: $249.00 Error: $50.00 SLE: 0.03 Item: Interlogix NetworX T...\u001b[0m\n",
            "\u001b[92m199: Guess: $25.00 Truth: $42.99 Error: $17.99 SLE: 0.28 Item: Steering Damper,Univ...\u001b[0m\n",
            "\u001b[91m200: Guess: $1,800.00 Truth: $181.33 Error: $1,618.67 SLE: 5.25 Item: Amprobe TIC 410A Hot...\u001b[0m\n",
            "\u001b[92m201: Guess: $1.00 Truth: $6.03 Error: $5.03 SLE: 1.58 Item: MyCableMart 3.5mm Pl...\u001b[0m\n",
            "\u001b[92m202: Guess: $25.00 Truth: $29.99 Error: $4.99 SLE: 0.03 Item: OtterBox + Pop Symme...\u001b[0m\n",
            "\u001b[91m203: Guess: $1,800.00 Truth: $899.00 Error: $901.00 SLE: 0.48 Item: Dell XPS Desktop ( I...\u001b[0m\n",
            "\u001b[91m204: Guess: $1,800.00 Truth: $399.99 Error: $1,400.01 SLE: 2.26 Item: Franklin Iron Works ...\u001b[0m\n",
            "\u001b[92m205: Guess: $7.99 Truth: $4.66 Error: $3.33 SLE: 0.21 Item: Avery Legal Dividers...\u001b[0m\n",
            "\u001b[91m206: Guess: $25.00 Truth: $261.41 Error: $236.41 SLE: 5.34 Item: Moen 8346 Commercial...\u001b[0m\n",
            "\u001b[91m207: Guess: $25.00 Truth: $136.97 Error: $111.97 SLE: 2.79 Item: Carlisle Versa Trail...\u001b[0m\n",
            "\u001b[93m208: Guess: $25.00 Truth: $79.00 Error: $54.00 SLE: 1.26 Item: SUNWAYFOTO 44mm Trip...\u001b[0m\n",
            "\u001b[93m209: Guess: $299.00 Truth: $444.99 Error: $145.99 SLE: 0.16 Item: NanoBeam AC 4 Units ...\u001b[0m\n",
            "\u001b[91m210: Guess: $1,800.00 Truth: $411.94 Error: $1,388.06 SLE: 2.17 Item: WULF 4 Front 2 Rear ...\u001b[0m\n",
            "\u001b[91m211: Guess: $1,800.00 Truth: $148.40 Error: $1,651.60 SLE: 6.20 Item: Alera ALEVABFMC Vale...\u001b[0m\n",
            "\u001b[91m212: Guess: $25.00 Truth: $244.99 Error: $219.99 SLE: 5.05 Item: YU-GI-OH! Ignition A...\u001b[0m\n",
            "\u001b[93m213: Guess: $25.00 Truth: $86.50 Error: $61.50 SLE: 1.47 Item: 48 x 36 Extra-Large ...\u001b[0m\n",
            "\u001b[92m214: Guess: $299.00 Truth: $297.95 Error: $1.05 SLE: 0.00 Item: Dell Latitude D620 R...\u001b[0m\n",
            "\u001b[93m215: Guess: $299.00 Truth: $399.99 Error: $100.99 SLE: 0.08 Item: acer Aspire 5 Laptop...\u001b[0m\n",
            "\u001b[91m216: Guess: $25.00 Truth: $599.00 Error: $574.00 SLE: 9.85 Item: Elk 30 by 6-Inch Viv...\u001b[0m\n",
            "\u001b[91m217: Guess: $25.00 Truth: $105.99 Error: $80.99 SLE: 2.00 Item: Barbie Top Model Dol...\u001b[0m\n",
            "\u001b[91m218: Guess: $299.99 Truth: $689.00 Error: $389.01 SLE: 0.69 Item: Danby Designer 20-In...\u001b[0m\n",
            "\u001b[91m219: Guess: $1,800.00 Truth: $404.99 Error: $1,395.01 SLE: 2.22 Item: FixtureDisplays® Met...\u001b[0m\n",
            "\u001b[91m220: Guess: $54.99 Truth: $207.76 Error: $152.77 SLE: 1.73 Item: ACDelco GM Original ...\u001b[0m\n",
            "\u001b[91m221: Guess: $1,999.00 Truth: $171.82 Error: $1,827.18 SLE: 6.00 Item: EBC Premium Street B...\u001b[0m\n",
            "\u001b[93m222: Guess: $220.00 Truth: $293.24 Error: $73.24 SLE: 0.08 Item: FXR Men's Boost FX J...\u001b[0m\n",
            "\u001b[91m223: Guess: $220.00 Truth: $374.95 Error: $154.95 SLE: 0.28 Item: SuperATV Scratch Res...\u001b[0m\n",
            "\u001b[91m224: Guess: $25.00 Truth: $111.99 Error: $86.99 SLE: 2.16 Item: SBU 3 Layer All Weat...\u001b[0m\n",
            "\u001b[92m225: Guess: $19.99 Truth: $42.99 Error: $23.00 SLE: 0.55 Item: 2 Pack Outdoor Broch...\u001b[0m\n",
            "\u001b[92m226: Guess: $110.00 Truth: $116.71 Error: $6.71 SLE: 0.00 Item: Monroe Shocks & Stru...\u001b[0m\n",
            "\u001b[91m227: Guess: $1,800.00 Truth: $118.61 Error: $1,681.39 SLE: 7.35 Item: Elements of Design M...\u001b[0m\n",
            "\u001b[91m228: Guess: $25.00 Truth: $147.12 Error: $122.12 SLE: 3.03 Item: GM Genuine Parts Air...\u001b[0m\n",
            "\u001b[91m229: Guess: $299.99 Truth: $119.99 Error: $180.00 SLE: 0.83 Item: Baseus USB C Docking...\u001b[0m\n",
            "\u001b[91m230: Guess: $1,800.00 Truth: $369.98 Error: $1,430.02 SLE: 2.50 Item: Whitehall™ Personali...\u001b[0m\n",
            "\u001b[93m231: Guess: $220.00 Truth: $315.55 Error: $95.55 SLE: 0.13 Item: Pro Circuit Works Pi...\u001b[0m\n",
            "\u001b[91m232: Guess: $299.99 Truth: $190.99 Error: $109.00 SLE: 0.20 Item: HYANKA 15 1200W Prof...\u001b[0m\n",
            "\u001b[91m233: Guess: $25.00 Truth: $155.00 Error: $130.00 SLE: 3.21 Item: Bluetooth X6BT Card ...\u001b[0m\n",
            "\u001b[92m234: Guess: $299.00 Truth: $349.99 Error: $50.99 SLE: 0.02 Item: AIRAID Cold Air Inta...\u001b[0m\n",
            "\u001b[93m235: Guess: $299.99 Truth: $249.99 Error: $50.00 SLE: 0.03 Item: Bostingner Shower Fa...\u001b[0m\n",
            "\u001b[92m236: Guess: $25.00 Truth: $42.99 Error: $17.99 SLE: 0.28 Item: PIT66 Front Bumper T...\u001b[0m\n",
            "\u001b[92m237: Guess: $19.99 Truth: $17.99 Error: $2.00 SLE: 0.01 Item: Caseology Bumpy Comp...\u001b[0m\n",
            "\u001b[91m238: Guess: $1,800.00 Truth: $425.00 Error: $1,375.00 SLE: 2.08 Item: Fleck 2510 Timer Mec...\u001b[0m\n",
            "\u001b[93m239: Guess: $299.99 Truth: $249.99 Error: $50.00 SLE: 0.03 Item: Haloview MC7108 Wire...\u001b[0m\n",
            "\u001b[91m240: Guess: $25.00 Truth: $138.23 Error: $113.23 SLE: 2.82 Item: Schmidt Spiele - Man...\u001b[0m\n",
            "\u001b[91m241: Guess: $1,800.00 Truth: $414.99 Error: $1,385.01 SLE: 2.15 Item: Corsa 14333 Tip Kit ...\u001b[0m\n",
            "\u001b[91m242: Guess: $25.00 Truth: $168.28 Error: $143.28 SLE: 3.51 Item: Hoshizaki FM116A Fan...\u001b[0m\n",
            "\u001b[91m243: Guess: $25.99 Truth: $199.99 Error: $174.00 SLE: 4.03 Item: BAINUO Antler Chande...\u001b[0m\n",
            "\u001b[91m244: Guess: $25.00 Truth: $126.70 Error: $101.70 SLE: 2.53 Item: DNA MOTORING Smoke L...\u001b[0m\n",
            "\u001b[92m245: Guess: $1.50 Truth: $5.91 Error: $4.41 SLE: 1.03 Item: Wera Stainless 3840/...\u001b[0m\n",
            "\u001b[91m246: Guess: $299.95 Truth: $193.06 Error: $106.89 SLE: 0.19 Item: Celestron - PowerSee...\u001b[0m\n",
            "\u001b[91m247: Guess: $1,999.00 Truth: $249.99 Error: $1,749.01 SLE: 4.31 Item: NHOPEEW Android Car ...\u001b[0m\n",
            "\u001b[92m248: Guess: $25.00 Truth: $64.12 Error: $39.12 SLE: 0.84 Item: Other Harmonica A)\n",
            "F...\u001b[0m\n",
            "\u001b[91m249: Guess: $25.00 Truth: $114.99 Error: $89.99 SLE: 2.24 Item: Harley Air Filter Ve...\u001b[0m\n",
            "\u001b[91m250: Guess: $1,800.00 Truth: $926.00 Error: $874.00 SLE: 0.44 Item: Elite Screens Edge F...\u001b[0m\n"
          ]
        },
        {
          "data": {
            "image/png": "[encoded data removed]",
            "text/plain": [
              "<Figure size 1200x800 with 1 Axes>"
            ]
          },
          "metadata": {},
          "output_type": "display_data"
        }
      ],
      "source": [
        "Tester.test(model_predict, test)"
      ]
    },
    {
      "cell_type": "code",
      "execution_count": null,
      "metadata": {
        "id": "5qgNxGCmNAw2"
      },
      "outputs": [],
      "source": []
    }
  ],
  "metadata": {
    "accelerator": "GPU",
    "colab": {
      "gpuType": "T4",
      "provenance": []
    },
    "kernelspec": {
      "display_name": "llms",
      "language": "python",
      "name": "python3"
    },
    "language_info": {
      "codemirror_mode": {
        "name": "ipython",
        "version": 3
      },
      "file_extension": ".py",
      "mimetype": "text/x-python",
      "name": "python",
      "nbconvert_exporter": "python",
      "pygments_lexer": "ipython3",
      "version": "3.11.11"
    }
  },
  "nbformat": 4,
  "nbformat_minor": 0
}
